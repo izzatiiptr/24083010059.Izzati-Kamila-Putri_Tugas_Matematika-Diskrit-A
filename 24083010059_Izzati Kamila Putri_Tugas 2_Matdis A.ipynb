{
  "nbformat": 4,
  "nbformat_minor": 0,
  "metadata": {
    "colab": {
      "provenance": [],
      "toc_visible": true
    },
    "kernelspec": {
      "name": "python3",
      "display_name": "Python 3"
    },
    "language_info": {
      "name": "python"
    }
  },
  "cells": [
    {
      "cell_type": "markdown",
      "source": [
        "# Pengujian Nilai $n$"
      ],
      "metadata": {
        "id": "MgQG80zKjtkQ"
      }
    },
    {
      "cell_type": "code",
      "execution_count": null,
      "metadata": {
        "id": "_FetcW3mOJIe"
      },
      "outputs": [],
      "source": [
        "import math\n",
        "import pandas as pd"
      ]
    },
    {
      "cell_type": "markdown",
      "source": [
        "Pada tugas ini saya menggunakan dua pustaka, yaitu math dan pandas. Pustaka math digunakan untuk mendukung berbagai operasi matematika yang mungkin diperlukan dalam perhitungan. Sedangkan pandas dipakai untuk menampilakan hasil uji dalam bentuk tabel, karena dengan tampilan tabel nilai  $n$ yang valid akan lebih mudah terbaca dan tersusun rapi."
      ],
      "metadata": {
        "id": "AJupLHRoieuc"
      }
    },
    {
      "cell_type": "code",
      "source": [
        "# Menentukan 𝑛 Yang Valid Untuk Pernyataan 1\n",
        "def pernyataan1(n: int) -> bool:\n",
        "    # Berlaku hanya untuk n >= 1\n",
        "    if n < 1:\n",
        "        return False\n",
        "    jumlah = sum(2*i - 1 for i in range(1, n+1))\n",
        "    return jumlah == n**2"
      ],
      "metadata": {
        "id": "C1lcgwhsQKmq"
      },
      "execution_count": null,
      "outputs": []
    },
    {
      "cell_type": "markdown",
      "source": [
        "Saya memilih persamaan pertama untuk mencari nilai-nilai $n$ yang valid pada rumus $1 + 3 + 5 + \\dots + (2n-1) = n^2$. Pada kode tersebut, fungsi `pernyataan1(n)` dibuat dengan syarat bahwa persamaan hanya berlaku untuk $n \\geq 1$. Hal ini diperlukan karena apabila $n = 0$, tidak ada bilangan ganjil yang dapat dijumlahkan sehingga persamaan tidak relevan untuk diperiksa. Python memang akan menafsirkan jumlah kosong sebagai nol sehingga tampak seolah $0 = 0^2$ benar, tetapi secara matematis hal ini tidak sesuai dengan definisi jumlah $n$ bilangan ganjil pertama.\n",
        "\n",
        "Selanjutnya, fungsi menjumlahkan bilangan ganjil pertama hingga ke-$n$ dengan rumus umum $2i - 1$, lalu hasilnya dibandingkan dengan $n^2$. Fungsi ini menjadi dasar pengujian pada berbagai nilai $n$, yang kemudian ditampilkan dalam bentuk tabel pada bagian akhir kode. Dari tabel tersebut terlihat secara sistematis bahwa nilai $n$ yang valid bagi persamaan ini adalah semua bilangan bulat $n \\geq 1$."
      ],
      "metadata": {
        "id": "FedyHYoLSkxX"
      }
    },
    {
      "cell_type": "code",
      "source": [
        "# Menentukan 𝑛 Yang Valid Untuk Pernyataan 5\n",
        "def pernyataan5(n: int) -> bool:\n",
        "    # Berlaku untuk semua bilangan bulat (negatif, nol, positif)\n",
        "    return 2**n > n**2"
      ],
      "metadata": {
        "id": "FJPyujKbQN4f"
      },
      "execution_count": null,
      "outputs": []
    },
    {
      "cell_type": "markdown",
      "source": [
        "Selanjutnya saya memilih pernyataan kelima, yaitu pertidaksamaan $2^n > n^2$. Pada kode di atas dibuat fungsi `pernyataan5(n)` yang bertujuan untuk memeriksa validitas nilai $n$ terhadap pertidaksamaan tersebut. Fungsi ini ditulis tanpa batasan awal, karena bentuk eksponensial $2^n$ maupun kuadrat $n^2$ dapat dihitung untuk semua bilangan bulat, baik negatif, nol, maupun positif. Fungsi akan berjalan dengan langsung membandingkan hasil pangkat dua dari $n$ dengan nilai kuadratnya. Dengan cara ini, fungsi akan mengembalikan nilai `True` apabila pertidaksamaan $2^n > n^2$ terpenuhi dan `False` apabila tidak terpenuhi. Sama seperti fungsi sebelumnya, `pernyataan5(n)` tidak menghasilkan output secara langsung saat dijalankan, namun hasil pengujian validitas nilai $n$ baru dapat diamati pada bagian akhir program ketika tabel dibentuk."
      ],
      "metadata": {
        "id": "O9h7LiBcS_TI"
      }
    },
    {
      "cell_type": "code",
      "source": [
        "# Membuat tabel\n",
        "def buat_tabel(mulai, batas):\n",
        "    data = []\n",
        "    for n in range(mulai, batas+1):\n",
        "        data.append({\n",
        "            \"n\": n,\n",
        "            \"1 + 3 + 5 + ... + (2n-1) == n^2\": pernyataan1(n),\n",
        "            \"2^n > n^2\": pernyataan5(n)\n",
        "        })\n",
        "    df = pd.DataFrame(data)\n",
        "    return df\n",
        "\n",
        "# Contoh: Melakukan pengecekan dari n = -10 sampai 10\n",
        "df = buat_tabel(-10, 10)\n",
        "print(df.to_string(index=False))"
      ],
      "metadata": {
        "colab": {
          "base_uri": "https://localhost:8080/"
        },
        "id": "dVYb17TIQRhY",
        "outputId": "d2b72d15-b8fd-4cb7-be6c-93c1e4009cf9"
      },
      "execution_count": null,
      "outputs": [
        {
          "output_type": "stream",
          "name": "stdout",
          "text": [
            "  n  1 + 3 + 5 + ... + (2n-1) == n^2  2^n > n^2\n",
            "-10                            False      False\n",
            " -9                            False      False\n",
            " -8                            False      False\n",
            " -7                            False      False\n",
            " -6                            False      False\n",
            " -5                            False      False\n",
            " -4                            False      False\n",
            " -3                            False      False\n",
            " -2                            False      False\n",
            " -1                            False      False\n",
            "  0                            False       True\n",
            "  1                             True       True\n",
            "  2                             True      False\n",
            "  3                             True      False\n",
            "  4                             True      False\n",
            "  5                             True       True\n",
            "  6                             True       True\n",
            "  7                             True       True\n",
            "  8                             True       True\n",
            "  9                             True       True\n",
            " 10                             True       True\n"
          ]
        }
      ]
    },
    {
      "cell_type": "markdown",
      "source": [
        "Sebelumnya saya mohon maaf apabila tahapan ini mungkin kurang tepat, karena untuk memahami soal saya menggunakan bantuan tabel agar lebih mudah melihat nilai-nilai $n$ yang valid pada kedua pernyataan.\n",
        "\n",
        "Kode di atas terdiri dari tiga bagian utama. Pertama, fungsi `pernyataan1(n)` disusun untuk memeriksa persamaan $1 + 3 + 5 + \\dots + (2n-1) = n^2$. Fungsi ini memberi syarat bahwa hanya $n \\geq 1$ yang dapat diuji, kemudian menghitung jumlah bilangan ganjil pertama sampai ke-$n$ dan membandingkannya dengan $n^2$. Kedua, fungsi `pernyataan5(n)` digunakan untuk menilai pertidaksamaan $2^n > n^2$. Fungsi ini langsung membandingkan hasil keduanya tanpa batasan khusus, karena baik bentuk eksponensial maupun kuadrat selalu terdefinisi pada semua bilangan bulat. Terakhir, terdapat fungsi `buat_tabel(mulai, batas)` yang memanggil kedua fungsi tersebut untuk rentang nilai $n$ tertentu, lalu menyajikan hasilnya dalam bentuk tabel agar lebih mudah diamati.\n",
        "\n",
        "Dari hasil uji pada pernyataan pertama, terlihat bahwa nilai $n$ yang valid adalah semua bilangan bulat $n \\geq 1$. Hal ini konsisten dengan sifat jumlah $n$ bilangan ganjil pertama yang memang identik dengan $n^2$.\n",
        "\n",
        "Sedangkan pada pernyataan kelima, hasilnya menunjukkan bahwa pertidaksamaan $2^n > n^2$ bernilai benar ketika $n = 0$ dan $n = 1$, tidak berlaku untuk $n = 2, 3, 4$, lalu kembali benar untuk semua $n \\geq 5$. Hal ini terjadi karena pada awalnya kuadrat masih bisa sama atau lebih besar dibandingkan dengan eksponensial, tetapi setelah $n$ mencapai angka tertentu, pertumbuhan eksponensial menjadi jauh lebih cepat sehingga selalu melampaui kuadrat. Maka dari itu, nilai $n$ yang valid untuk pernyataan kelima adalah $n = 0$, $n = 1$, dan semua $n \\geq 5$."
      ],
      "metadata": {
        "id": "33hmFmvYfknx"
      }
    },
    {
      "cell_type": "markdown",
      "source": [
        "# Kesimpulan"
      ],
      "metadata": {
        "id": "Gii38YiAjZST"
      }
    },
    {
      "cell_type": "markdown",
      "source": [
        "Berdasarkan hasil pengujian di atas, diperoleh bahwa pernyataan pertama hanya valid untuk $n \\geq 1$, sesuai definisi jumlah $n$ bilangan ganjil pertama. Sedangkan pada pernyataan kelima, nilai $n$ yang valid adalah $n = 0, 1$, dan seluruh $n \\geq 5$. Hal ini menunjukkan adanya perbedaan sifat pertumbuhan fungsi kuadrat dan eksponensial, di mana eksponensial pada akhirnya melampaui kuadrat."
      ],
      "metadata": {
        "id": "rz6koEBNjSdU"
      }
    }
  ]
}